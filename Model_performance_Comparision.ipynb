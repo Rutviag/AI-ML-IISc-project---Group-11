{
  "nbformat": 4,
  "nbformat_minor": 0,
  "metadata": {
    "colab": {
      "provenance": [],
      "authorship_tag": "ABX9TyOPfZzTSYe3yQhVyi4gWaq1",
      "include_colab_link": true
    },
    "kernelspec": {
      "name": "python3",
      "display_name": "Python 3"
    },
    "language_info": {
      "name": "python"
    }
  },
  "cells": [
    {
      "cell_type": "markdown",
      "metadata": {
        "id": "view-in-github",
        "colab_type": "text"
      },
      "source": [
        "<a href=\"https://colab.research.google.com/github/Rutviag/AI-ML-IISc-project---Group-11/blob/Work_Rutvi/Model_performance_Comparision.ipynb\" target=\"_parent\"><img src=\"https://colab.research.google.com/assets/colab-badge.svg\" alt=\"Open In Colab\"/></a>"
      ]
    },
    {
      "cell_type": "code",
      "source": [
        "# Step 2: Install necessary libraries in Colab\n",
        "!pip install xgboost catboost joblib"
      ],
      "metadata": {
        "colab": {
          "base_uri": "https://localhost:8080/"
        },
        "id": "mT3Byuu1X2n0",
        "outputId": "0c994c39-8d59-41da-9158-57196bc2023a"
      },
      "execution_count": 4,
      "outputs": [
        {
          "output_type": "stream",
          "name": "stdout",
          "text": [
            "Requirement already satisfied: xgboost in /usr/local/lib/python3.10/dist-packages (2.1.2)\n",
            "Collecting catboost\n",
            "  Downloading catboost-1.2.7-cp310-cp310-manylinux2014_x86_64.whl.metadata (1.2 kB)\n",
            "Requirement already satisfied: joblib in /usr/local/lib/python3.10/dist-packages (1.4.2)\n",
            "Requirement already satisfied: numpy in /usr/local/lib/python3.10/dist-packages (from xgboost) (1.26.4)\n",
            "Requirement already satisfied: nvidia-nccl-cu12 in /usr/local/lib/python3.10/dist-packages (from xgboost) (2.23.4)\n",
            "Requirement already satisfied: scipy in /usr/local/lib/python3.10/dist-packages (from xgboost) (1.13.1)\n",
            "Requirement already satisfied: graphviz in /usr/local/lib/python3.10/dist-packages (from catboost) (0.20.3)\n",
            "Requirement already satisfied: matplotlib in /usr/local/lib/python3.10/dist-packages (from catboost) (3.8.0)\n",
            "Requirement already satisfied: pandas>=0.24 in /usr/local/lib/python3.10/dist-packages (from catboost) (2.2.2)\n",
            "Requirement already satisfied: plotly in /usr/local/lib/python3.10/dist-packages (from catboost) (5.24.1)\n",
            "Requirement already satisfied: six in /usr/local/lib/python3.10/dist-packages (from catboost) (1.16.0)\n",
            "Requirement already satisfied: python-dateutil>=2.8.2 in /usr/local/lib/python3.10/dist-packages (from pandas>=0.24->catboost) (2.8.2)\n",
            "Requirement already satisfied: pytz>=2020.1 in /usr/local/lib/python3.10/dist-packages (from pandas>=0.24->catboost) (2024.2)\n",
            "Requirement already satisfied: tzdata>=2022.7 in /usr/local/lib/python3.10/dist-packages (from pandas>=0.24->catboost) (2024.2)\n",
            "Requirement already satisfied: contourpy>=1.0.1 in /usr/local/lib/python3.10/dist-packages (from matplotlib->catboost) (1.3.1)\n",
            "Requirement already satisfied: cycler>=0.10 in /usr/local/lib/python3.10/dist-packages (from matplotlib->catboost) (0.12.1)\n",
            "Requirement already satisfied: fonttools>=4.22.0 in /usr/local/lib/python3.10/dist-packages (from matplotlib->catboost) (4.54.1)\n",
            "Requirement already satisfied: kiwisolver>=1.0.1 in /usr/local/lib/python3.10/dist-packages (from matplotlib->catboost) (1.4.7)\n",
            "Requirement already satisfied: packaging>=20.0 in /usr/local/lib/python3.10/dist-packages (from matplotlib->catboost) (24.2)\n",
            "Requirement already satisfied: pillow>=6.2.0 in /usr/local/lib/python3.10/dist-packages (from matplotlib->catboost) (11.0.0)\n",
            "Requirement already satisfied: pyparsing>=2.3.1 in /usr/local/lib/python3.10/dist-packages (from matplotlib->catboost) (3.2.0)\n",
            "Requirement already satisfied: tenacity>=6.2.0 in /usr/local/lib/python3.10/dist-packages (from plotly->catboost) (9.0.0)\n",
            "Downloading catboost-1.2.7-cp310-cp310-manylinux2014_x86_64.whl (98.7 MB)\n",
            "\u001b[2K   \u001b[90m━━━━━━━━━━━━━━━━━━━━━━━━━━━━━━━━━━━━━━━━\u001b[0m \u001b[32m98.7/98.7 MB\u001b[0m \u001b[31m7.8 MB/s\u001b[0m eta \u001b[36m0:00:00\u001b[0m\n",
            "\u001b[?25hInstalling collected packages: catboost\n",
            "Successfully installed catboost-1.2.7\n"
          ]
        }
      ]
    },
    {
      "cell_type": "code",
      "source": [
        "# Step 1: Import necessary libraries\n",
        "import pandas as pd\n",
        "import numpy as np\n",
        "from sklearn.model_selection import train_test_split\n",
        "from sklearn.ensemble import RandomForestRegressor\n",
        "from sklearn.tree import DecisionTreeRegressor\n",
        "from sklearn.metrics import mean_absolute_error, mean_squared_error, r2_score\n",
        "from sklearn.preprocessing import OneHotEncoder, StandardScaler, LabelEncoder\n",
        "from sklearn.compose import ColumnTransformer\n",
        "from sklearn.pipeline import Pipeline\n",
        "import joblib\n",
        "import xgboost as xgb\n",
        "import catboost as catb"
      ],
      "metadata": {
        "id": "Hr8uu7iaXp84"
      },
      "execution_count": 5,
      "outputs": []
    },
    {
      "cell_type": "code",
      "source": [
        "# Step 3: Upload dataset\n",
        "from google.colab import files\n",
        "uploaded = files.upload()\n",
        "file_path = list(uploaded.keys())[0]  # Automatically gets the uploaded file name\n",
        "data = pd.read_csv(file_path)"
      ],
      "metadata": {
        "colab": {
          "base_uri": "https://localhost:8080/",
          "height": 94
        },
        "id": "Yzty0eQQX5VE",
        "outputId": "0af6d6a2-7054-454d-b04f-e2c27632d3f4"
      },
      "execution_count": 6,
      "outputs": [
        {
          "output_type": "display_data",
          "data": {
            "text/plain": [
              "<IPython.core.display.HTML object>"
            ],
            "text/html": [
              "\n",
              "     <input type=\"file\" id=\"files-9cca6c52-eed6-49bf-ba3c-5cede9df646e\" name=\"files[]\" multiple disabled\n",
              "        style=\"border:none\" />\n",
              "     <output id=\"result-9cca6c52-eed6-49bf-ba3c-5cede9df646e\">\n",
              "      Upload widget is only available when the cell has been executed in the\n",
              "      current browser session. Please rerun this cell to enable.\n",
              "      </output>\n",
              "      <script>// Copyright 2017 Google LLC\n",
              "//\n",
              "// Licensed under the Apache License, Version 2.0 (the \"License\");\n",
              "// you may not use this file except in compliance with the License.\n",
              "// You may obtain a copy of the License at\n",
              "//\n",
              "//      http://www.apache.org/licenses/LICENSE-2.0\n",
              "//\n",
              "// Unless required by applicable law or agreed to in writing, software\n",
              "// distributed under the License is distributed on an \"AS IS\" BASIS,\n",
              "// WITHOUT WARRANTIES OR CONDITIONS OF ANY KIND, either express or implied.\n",
              "// See the License for the specific language governing permissions and\n",
              "// limitations under the License.\n",
              "\n",
              "/**\n",
              " * @fileoverview Helpers for google.colab Python module.\n",
              " */\n",
              "(function(scope) {\n",
              "function span(text, styleAttributes = {}) {\n",
              "  const element = document.createElement('span');\n",
              "  element.textContent = text;\n",
              "  for (const key of Object.keys(styleAttributes)) {\n",
              "    element.style[key] = styleAttributes[key];\n",
              "  }\n",
              "  return element;\n",
              "}\n",
              "\n",
              "// Max number of bytes which will be uploaded at a time.\n",
              "const MAX_PAYLOAD_SIZE = 100 * 1024;\n",
              "\n",
              "function _uploadFiles(inputId, outputId) {\n",
              "  const steps = uploadFilesStep(inputId, outputId);\n",
              "  const outputElement = document.getElementById(outputId);\n",
              "  // Cache steps on the outputElement to make it available for the next call\n",
              "  // to uploadFilesContinue from Python.\n",
              "  outputElement.steps = steps;\n",
              "\n",
              "  return _uploadFilesContinue(outputId);\n",
              "}\n",
              "\n",
              "// This is roughly an async generator (not supported in the browser yet),\n",
              "// where there are multiple asynchronous steps and the Python side is going\n",
              "// to poll for completion of each step.\n",
              "// This uses a Promise to block the python side on completion of each step,\n",
              "// then passes the result of the previous step as the input to the next step.\n",
              "function _uploadFilesContinue(outputId) {\n",
              "  const outputElement = document.getElementById(outputId);\n",
              "  const steps = outputElement.steps;\n",
              "\n",
              "  const next = steps.next(outputElement.lastPromiseValue);\n",
              "  return Promise.resolve(next.value.promise).then((value) => {\n",
              "    // Cache the last promise value to make it available to the next\n",
              "    // step of the generator.\n",
              "    outputElement.lastPromiseValue = value;\n",
              "    return next.value.response;\n",
              "  });\n",
              "}\n",
              "\n",
              "/**\n",
              " * Generator function which is called between each async step of the upload\n",
              " * process.\n",
              " * @param {string} inputId Element ID of the input file picker element.\n",
              " * @param {string} outputId Element ID of the output display.\n",
              " * @return {!Iterable<!Object>} Iterable of next steps.\n",
              " */\n",
              "function* uploadFilesStep(inputId, outputId) {\n",
              "  const inputElement = document.getElementById(inputId);\n",
              "  inputElement.disabled = false;\n",
              "\n",
              "  const outputElement = document.getElementById(outputId);\n",
              "  outputElement.innerHTML = '';\n",
              "\n",
              "  const pickedPromise = new Promise((resolve) => {\n",
              "    inputElement.addEventListener('change', (e) => {\n",
              "      resolve(e.target.files);\n",
              "    });\n",
              "  });\n",
              "\n",
              "  const cancel = document.createElement('button');\n",
              "  inputElement.parentElement.appendChild(cancel);\n",
              "  cancel.textContent = 'Cancel upload';\n",
              "  const cancelPromise = new Promise((resolve) => {\n",
              "    cancel.onclick = () => {\n",
              "      resolve(null);\n",
              "    };\n",
              "  });\n",
              "\n",
              "  // Wait for the user to pick the files.\n",
              "  const files = yield {\n",
              "    promise: Promise.race([pickedPromise, cancelPromise]),\n",
              "    response: {\n",
              "      action: 'starting',\n",
              "    }\n",
              "  };\n",
              "\n",
              "  cancel.remove();\n",
              "\n",
              "  // Disable the input element since further picks are not allowed.\n",
              "  inputElement.disabled = true;\n",
              "\n",
              "  if (!files) {\n",
              "    return {\n",
              "      response: {\n",
              "        action: 'complete',\n",
              "      }\n",
              "    };\n",
              "  }\n",
              "\n",
              "  for (const file of files) {\n",
              "    const li = document.createElement('li');\n",
              "    li.append(span(file.name, {fontWeight: 'bold'}));\n",
              "    li.append(span(\n",
              "        `(${file.type || 'n/a'}) - ${file.size} bytes, ` +\n",
              "        `last modified: ${\n",
              "            file.lastModifiedDate ? file.lastModifiedDate.toLocaleDateString() :\n",
              "                                    'n/a'} - `));\n",
              "    const percent = span('0% done');\n",
              "    li.appendChild(percent);\n",
              "\n",
              "    outputElement.appendChild(li);\n",
              "\n",
              "    const fileDataPromise = new Promise((resolve) => {\n",
              "      const reader = new FileReader();\n",
              "      reader.onload = (e) => {\n",
              "        resolve(e.target.result);\n",
              "      };\n",
              "      reader.readAsArrayBuffer(file);\n",
              "    });\n",
              "    // Wait for the data to be ready.\n",
              "    let fileData = yield {\n",
              "      promise: fileDataPromise,\n",
              "      response: {\n",
              "        action: 'continue',\n",
              "      }\n",
              "    };\n",
              "\n",
              "    // Use a chunked sending to avoid message size limits. See b/62115660.\n",
              "    let position = 0;\n",
              "    do {\n",
              "      const length = Math.min(fileData.byteLength - position, MAX_PAYLOAD_SIZE);\n",
              "      const chunk = new Uint8Array(fileData, position, length);\n",
              "      position += length;\n",
              "\n",
              "      const base64 = btoa(String.fromCharCode.apply(null, chunk));\n",
              "      yield {\n",
              "        response: {\n",
              "          action: 'append',\n",
              "          file: file.name,\n",
              "          data: base64,\n",
              "        },\n",
              "      };\n",
              "\n",
              "      let percentDone = fileData.byteLength === 0 ?\n",
              "          100 :\n",
              "          Math.round((position / fileData.byteLength) * 100);\n",
              "      percent.textContent = `${percentDone}% done`;\n",
              "\n",
              "    } while (position < fileData.byteLength);\n",
              "  }\n",
              "\n",
              "  // All done.\n",
              "  yield {\n",
              "    response: {\n",
              "      action: 'complete',\n",
              "    }\n",
              "  };\n",
              "}\n",
              "\n",
              "scope.google = scope.google || {};\n",
              "scope.google.colab = scope.google.colab || {};\n",
              "scope.google.colab._files = {\n",
              "  _uploadFiles,\n",
              "  _uploadFilesContinue,\n",
              "};\n",
              "})(self);\n",
              "</script> "
            ]
          },
          "metadata": {}
        },
        {
          "output_type": "stream",
          "name": "stdout",
          "text": [
            "Saving Data 1 - New York 2023.csv to Data 1 - New York 2023 (1).csv\n"
          ]
        }
      ]
    },
    {
      "cell_type": "code",
      "source": [
        "# Step 4: Explore the dataset\n",
        "print(\"Dataset Preview:\")\n",
        "print(data.head())  # Display the first few rows\n",
        "print(\"\\nDataset Info:\")\n",
        "print(data.info())  # Check data types and missing values\n",
        "print(\"\\nSummary Statistics:\")\n",
        "print(data.describe())  # Summary statistics for numerical columns"
      ],
      "metadata": {
        "colab": {
          "base_uri": "https://localhost:8080/"
        },
        "id": "QFtjV8RiX7Bx",
        "outputId": "5f33af01-701d-438a-f68d-a4f408e9d22d"
      },
      "execution_count": 7,
      "outputs": [
        {
          "output_type": "stream",
          "name": "stdout",
          "text": [
            "Dataset Preview:\n",
            "   YEAR OP_UNIQUE_CARRIER TAIL_NUM  OP_CARRIER_FL_NUM  ORIGIN_AIRPORT_ID  \\\n",
            "0  2023                9E   N131EV               4642              14492   \n",
            "1  2023                9E   N131EV               4647              11057   \n",
            "2  2023                9E   N131EV               4658              12953   \n",
            "3  2023                9E   N131EV               4660              12478   \n",
            "4  2023                9E   N131EV               4670              12953   \n",
            "\n",
            "     ORIGIN_CITY_NAME  DEST_AIRPORT_ID   DEST_CITY_NAME  CRS_DEP_TIME  \\\n",
            "0  Raleigh/Durham, NC            12478     New York, NY          2020   \n",
            "1       Charlotte, NC            12953     New York, NY          1356   \n",
            "2        New York, NY            11193   Cincinnati, OH           835   \n",
            "3        New York, NY            13487  Minneapolis, MN           800   \n",
            "4        New York, NY            13342    Milwaukee, WI          1900   \n",
            "\n",
            "   DEP_TIME  DEP_DELAY  DEP_DELAY_NEW  AIR_TIME  FLIGHTS  DISTANCE  \\\n",
            "0    2032.0       12.0           12.0      62.0        1       427   \n",
            "1    1354.0       -2.0            0.0     104.0        1       544   \n",
            "2     938.0       63.0           63.0      91.0        1       585   \n",
            "3     759.0       -1.0            0.0     152.0        1      1029   \n",
            "4    1900.0        0.0            0.0     132.0        1       738   \n",
            "\n",
            "   CARRIER_DELAY  WEATHER_DELAY  NAS_DELAY  LATE_AIRCRAFT_DELAY  \n",
            "0            NaN            NaN        NaN                  NaN  \n",
            "1            NaN            NaN        NaN                  NaN  \n",
            "2            0.0            0.0        0.0                 45.0  \n",
            "3            NaN            NaN        NaN                  NaN  \n",
            "4            NaN            NaN        NaN                  NaN  \n",
            "\n",
            "Dataset Info:\n",
            "<class 'pandas.core.frame.DataFrame'>\n",
            "RangeIndex: 61816 entries, 0 to 61815\n",
            "Data columns (total 19 columns):\n",
            " #   Column               Non-Null Count  Dtype  \n",
            "---  ------               --------------  -----  \n",
            " 0   YEAR                 61816 non-null  int64  \n",
            " 1   OP_UNIQUE_CARRIER    61816 non-null  object \n",
            " 2   TAIL_NUM             61755 non-null  object \n",
            " 3   OP_CARRIER_FL_NUM    61816 non-null  int64  \n",
            " 4   ORIGIN_AIRPORT_ID    61816 non-null  int64  \n",
            " 5   ORIGIN_CITY_NAME     61816 non-null  object \n",
            " 6   DEST_AIRPORT_ID      61816 non-null  int64  \n",
            " 7   DEST_CITY_NAME       61816 non-null  object \n",
            " 8   CRS_DEP_TIME         61816 non-null  int64  \n",
            " 9   DEP_TIME             60962 non-null  float64\n",
            " 10  DEP_DELAY            60961 non-null  float64\n",
            " 11  DEP_DELAY_NEW        60961 non-null  float64\n",
            " 12  AIR_TIME             60770 non-null  float64\n",
            " 13  FLIGHTS              61816 non-null  int64  \n",
            " 14  DISTANCE             61816 non-null  int64  \n",
            " 15  CARRIER_DELAY        14122 non-null  float64\n",
            " 16  WEATHER_DELAY        14122 non-null  float64\n",
            " 17  NAS_DELAY            14122 non-null  float64\n",
            " 18  LATE_AIRCRAFT_DELAY  14122 non-null  float64\n",
            "dtypes: float64(8), int64(7), object(4)\n",
            "memory usage: 9.0+ MB\n",
            "None\n",
            "\n",
            "Summary Statistics:\n",
            "          YEAR  OP_CARRIER_FL_NUM  ORIGIN_AIRPORT_ID  DEST_AIRPORT_ID  \\\n",
            "count  61816.0       61816.000000       61816.000000     61816.000000   \n",
            "mean    2023.0        2832.243917       12614.647340     12615.422399   \n",
            "std        0.0        1958.292514        1248.304479      1248.451415   \n",
            "min     2023.0           1.000000       10257.000000     10257.000000   \n",
            "25%     2023.0        1054.000000       11697.000000     11697.000000   \n",
            "50%     2023.0        2379.000000       12478.000000     12478.000000   \n",
            "75%     2023.0        4746.000000       13204.000000     13204.000000   \n",
            "max     2023.0        9887.000000       15919.000000     15919.000000   \n",
            "\n",
            "       CRS_DEP_TIME      DEP_TIME     DEP_DELAY  DEP_DELAY_NEW      AIR_TIME  \\\n",
            "count  61816.000000  60962.000000  60961.000000   60961.000000  60770.000000   \n",
            "mean    1330.000097   1335.931269     13.434294      17.215515    122.081455   \n",
            "std      477.375065    493.724114     57.937425      56.654285     77.021552   \n",
            "min       20.000000      1.000000    -40.000000       0.000000     18.000000   \n",
            "25%      929.000000    928.000000     -7.000000       0.000000     62.000000   \n",
            "50%     1330.000000   1335.000000     -3.000000       0.000000    105.000000   \n",
            "75%     1725.000000   1731.000000      9.000000       9.000000    150.000000   \n",
            "max     2359.000000   2400.000000   2554.000000    2554.000000    695.000000   \n",
            "\n",
            "       FLIGHTS      DISTANCE  CARRIER_DELAY  WEATHER_DELAY     NAS_DELAY  \\\n",
            "count  61816.0  61816.000000   14122.000000   14122.000000  14122.000000   \n",
            "mean       1.0    853.483241      25.609262       3.032219     19.400227   \n",
            "std        0.0    640.300381      80.992814      31.136091     36.722884   \n",
            "min        1.0    101.000000       0.000000       0.000000      0.000000   \n",
            "25%        1.0    335.000000       0.000000       0.000000      0.000000   \n",
            "50%        1.0    733.000000       0.000000       0.000000      7.000000   \n",
            "75%        1.0   1076.000000      22.000000       0.000000     24.000000   \n",
            "max        1.0   4983.000000    2554.000000    1132.000000    844.000000   \n",
            "\n",
            "       LATE_AIRCRAFT_DELAY  \n",
            "count         14122.000000  \n",
            "mean             24.504532  \n",
            "std              50.679412  \n",
            "min               0.000000  \n",
            "25%               0.000000  \n",
            "50%               0.000000  \n",
            "75%              28.000000  \n",
            "max            1022.000000  \n"
          ]
        }
      ]
    },
    {
      "cell_type": "code",
      "source": [
        "# Step 5: Data Cleaning and Feature Engineering\n",
        "# Drop rows with missing target values\n",
        "data = data.dropna(subset=['DEP_DELAY_NEW', 'CARRIER_DELAY', 'WEATHER_DELAY', 'NAS_DELAY', 'LATE_AIRCRAFT_DELAY'])\n",
        "\n",
        "# Extract useful features from CRS_DEP_TIME (e.g., hour of day)\n",
        "data['CRS_DEP_HOUR'] = data['CRS_DEP_TIME'] // 60  # Extract hour\n",
        "data['CRS_DEP_MINUTES'] = data['CRS_DEP_TIME'] % 60  # Extract minutes"
      ],
      "metadata": {
        "colab": {
          "base_uri": "https://localhost:8080/"
        },
        "id": "A4dEnu3iYNHt",
        "outputId": "8fb05f36-b2d0-41ce-ae2f-853fb29a3006"
      },
      "execution_count": 8,
      "outputs": [
        {
          "output_type": "stream",
          "name": "stderr",
          "text": [
            "<ipython-input-8-f5dffe60d0ef>:6: SettingWithCopyWarning: \n",
            "A value is trying to be set on a copy of a slice from a DataFrame.\n",
            "Try using .loc[row_indexer,col_indexer] = value instead\n",
            "\n",
            "See the caveats in the documentation: https://pandas.pydata.org/pandas-docs/stable/user_guide/indexing.html#returning-a-view-versus-a-copy\n",
            "  data['CRS_DEP_HOUR'] = data['CRS_DEP_TIME'] // 60  # Extract hour\n",
            "<ipython-input-8-f5dffe60d0ef>:7: SettingWithCopyWarning: \n",
            "A value is trying to be set on a copy of a slice from a DataFrame.\n",
            "Try using .loc[row_indexer,col_indexer] = value instead\n",
            "\n",
            "See the caveats in the documentation: https://pandas.pydata.org/pandas-docs/stable/user_guide/indexing.html#returning-a-view-versus-a-copy\n",
            "  data['CRS_DEP_MINUTES'] = data['CRS_DEP_TIME'] % 60  # Extract minutes\n"
          ]
        }
      ]
    },
    {
      "cell_type": "code",
      "source": [
        "# Step 6: Define Features (X) and Target (y)\n",
        "X = data[['OP_UNIQUE_CARRIER', 'ORIGIN_CITY_NAME', 'DEST_CITY_NAME',\n",
        "          'CRS_DEP_HOUR', 'CRS_DEP_MINUTES', 'DISTANCE', 'CARRIER_DELAY',\n",
        "          'WEATHER_DELAY', 'NAS_DELAY', 'LATE_AIRCRAFT_DELAY']]\n",
        "y = data['DEP_DELAY_NEW']\n",
        "\n",
        "# Encode target variable for Naive Bayes (if needed)\n",
        "le = LabelEncoder()\n",
        "y_nb = le.fit_transform(y.astype(int))"
      ],
      "metadata": {
        "id": "8jtJogKAYT5J"
      },
      "execution_count": 9,
      "outputs": []
    },
    {
      "cell_type": "code",
      "source": [
        "# Step 7: Split the data into training and testing sets\n",
        "X_train, X_test, y_train, y_test = train_test_split(X, y, test_size=0.2, random_state=42)"
      ],
      "metadata": {
        "id": "ER1SLPP1YX-_"
      },
      "execution_count": 10,
      "outputs": []
    },
    {
      "cell_type": "code",
      "source": [
        "# Step 8: Build the preprocessing pipeline\n",
        "categorical_features = ['OP_UNIQUE_CARRIER', 'ORIGIN_CITY_NAME', 'DEST_CITY_NAME']\n",
        "numerical_features = ['CRS_DEP_HOUR', 'CRS_DEP_MINUTES', 'DISTANCE',\n",
        "                      'CARRIER_DELAY', 'WEATHER_DELAY', 'NAS_DELAY',\n",
        "                      'LATE_AIRCRAFT_DELAY']\n",
        "\n",
        "preprocessor = ColumnTransformer(\n",
        "    transformers=[\n",
        "        ('num', StandardScaler(), numerical_features),\n",
        "        ('cat', OneHotEncoder(handle_unknown='ignore'), categorical_features)\n",
        "    ])"
      ],
      "metadata": {
        "id": "-bGXF4jDYa0q"
      },
      "execution_count": 11,
      "outputs": []
    },
    {
      "cell_type": "code",
      "source": [
        "# Step 9: Train and Evaluate Models\n",
        "def train_and_evaluate_model(model, model_name):\n",
        "    pipeline = Pipeline(steps=[\n",
        "        ('preprocessor', preprocessor),\n",
        "        ('model', model)\n",
        "    ])\n",
        "    pipeline.fit(X_train, y_train)\n",
        "    y_pred = pipeline.predict(X_test)\n",
        "\n",
        "    mae = mean_absolute_error(y_test, y_pred)\n",
        "    mse = mean_squared_error(y_test, y_pred)\n",
        "    r2 = r2_score(y_test, y_pred)\n",
        "\n",
        "    print(f\"\\n{model_name} Results:\")\n",
        "    print(f\"Mean Absolute Error (MAE): {mae:.2f}\")\n",
        "    print(f\"Mean Squared Error (MSE): {mse:.2f}\")\n",
        "    print(f\"R2 Score: {r2:.2f}\")\n",
        "\n",
        "    return pipeline, mae, mse, r2\n",
        "\n",
        "# Random Forest\n",
        "rf_pipeline, rf_mae, rf_mse, rf_r2 = train_and_evaluate_model(\n",
        "    RandomForestRegressor(n_estimators=100, random_state=42), \"Random Forest\")\n",
        "\n",
        "# Decision Tree\n",
        "dt_pipeline, dt_mae, dt_mse, dt_r2 = train_and_evaluate_model(\n",
        "    DecisionTreeRegressor(random_state=42), \"Decision Tree\")\n",
        "\n",
        "# XGBoost\n",
        "xg_pipeline, xg_mae, xg_mse, xg_r2 = train_and_evaluate_model(\n",
        "    xgb.XGBRegressor(objective='reg:squarederror', n_estimators=100,\n",
        "                     learning_rate=0.1, max_depth=6, subsample=0.8,\n",
        "                     colsample_bytree=0.8, random_state=42), \"XGBoost\")\n",
        "\n",
        "# CatBoost\n",
        "catb_pipeline, ct_mae, ct_mse, ct_r2 = train_and_evaluate_model(\n",
        "    catb.CatBoostRegressor(iterations=200, learning_rate=0.05, depth=10,\n",
        "                           verbose=0), \"CatBoost\")"
      ],
      "metadata": {
        "colab": {
          "base_uri": "https://localhost:8080/"
        },
        "id": "MA-nnelKYeqq",
        "outputId": "fafadd7c-0541-472c-91f6-45a6cc62caf7"
      },
      "execution_count": 12,
      "outputs": [
        {
          "output_type": "stream",
          "name": "stdout",
          "text": [
            "\n",
            "Random Forest Results:\n",
            "Mean Absolute Error (MAE): 9.84\n",
            "Mean Squared Error (MSE): 470.90\n",
            "R2 Score: 0.95\n",
            "\n",
            "Decision Tree Results:\n",
            "Mean Absolute Error (MAE): 12.14\n",
            "Mean Squared Error (MSE): 703.78\n",
            "R2 Score: 0.93\n",
            "\n",
            "XGBoost Results:\n",
            "Mean Absolute Error (MAE): 10.49\n",
            "Mean Squared Error (MSE): 580.78\n",
            "R2 Score: 0.94\n",
            "\n",
            "CatBoost Results:\n",
            "Mean Absolute Error (MAE): 10.86\n",
            "Mean Squared Error (MSE): 493.23\n",
            "R2 Score: 0.95\n"
          ]
        }
      ]
    },
    {
      "cell_type": "code",
      "source": [
        "# Step 10: Compare Model Performance\n",
        "model_comparison = pd.DataFrame({\n",
        "    'Model': ['Random Forest', 'Decision Tree', 'XGBoost', 'CatBoost'],\n",
        "    'MAE': [rf_mae, dt_mae, xg_mae, ct_mae],\n",
        "    'MSE': [rf_mse, dt_mse, xg_mse, ct_mse],\n",
        "    'R2 Score': [rf_r2, dt_r2, xg_r2, ct_r2]\n",
        "})\n",
        "\n",
        "print(\"\\nModel Performance Comparison:\")\n",
        "print(model_comparison)"
      ],
      "metadata": {
        "colab": {
          "base_uri": "https://localhost:8080/"
        },
        "id": "TbeGL7cIYi-0",
        "outputId": "55500291-f658-422b-e292-1f5dd1dce35c"
      },
      "execution_count": 13,
      "outputs": [
        {
          "output_type": "stream",
          "name": "stdout",
          "text": [
            "\n",
            "Model Performance Comparison:\n",
            "           Model        MAE         MSE  R2 Score\n",
            "0  Random Forest   9.841096  470.898972  0.951306\n",
            "1  Decision Tree  12.135398  703.775310  0.927225\n",
            "2        XGBoost  10.488643  580.779739  0.939944\n",
            "3       CatBoost  10.862682  493.228329  0.948997\n"
          ]
        }
      ]
    },
    {
      "cell_type": "code",
      "source": [
        "# Step 11: Save the Best Model\n",
        "if rf_mae < dt_mae and rf_mae < xg_mae and rf_mae < ct_mae:\n",
        "    best_pipeline = rf_pipeline\n",
        "    best_model_name = \"Random Forest\"\n",
        "elif dt_mae < rf_mae and dt_mae < xg_mae and dt_mae < ct_mae:\n",
        "    best_pipeline = dt_pipeline\n",
        "    best_model_name = \"Decision Tree\"\n",
        "elif xg_mae < rf_mae and xg_mae < dt_mae and xg_mae < ct_mae:\n",
        "    best_pipeline = xg_pipeline\n",
        "    best_model_name = \"XGBoost\"\n",
        "else:\n",
        "    best_pipeline = catb_pipeline\n",
        "    best_model_name = \"CatBoost\"\n",
        "\n",
        "joblib.dump(best_pipeline, '/content/best_flight_delay_model.pkl')\n",
        "print(f\"The best model is {best_model_name}. Saved as '/content/best_flight_delay_model.pkl'.\")"
      ],
      "metadata": {
        "colab": {
          "base_uri": "https://localhost:8080/"
        },
        "id": "l9nhMLZ1Yxeg",
        "outputId": "c35797b0-4b1e-47f6-e090-220b1ab1640f"
      },
      "execution_count": 14,
      "outputs": [
        {
          "output_type": "stream",
          "name": "stdout",
          "text": [
            "The best model is Random Forest. Saved as '/content/best_flight_delay_model.pkl'.\n"
          ]
        }
      ]
    },
    {
      "cell_type": "code",
      "source": [
        "# Step 12: Predict delays for new flight data\n",
        "new_flight = pd.DataFrame({\n",
        "    'OP_UNIQUE_CARRIER': ['AA'],\n",
        "    'ORIGIN_CITY_NAME': ['New York, NY'],\n",
        "    'DEST_CITY_NAME': ['Los Angeles, CA'],\n",
        "    'CRS_DEP_HOUR': [10],\n",
        "    'CRS_DEP_MINUTES': [30],\n",
        "    'DISTANCE': [2475],\n",
        "    'CARRIER_DELAY': [0],\n",
        "    'WEATHER_DELAY': [0],\n",
        "    'NAS_DELAY': [0],\n",
        "    'LATE_AIRCRAFT_DELAY': [0]\n",
        "})\n",
        "\n",
        "predicted_delay = best_pipeline.predict(new_flight)\n",
        "print(f\"Predicted Delay for the flight: {predicted_delay[0]:.2f} minutes\")\n"
      ],
      "metadata": {
        "colab": {
          "base_uri": "https://localhost:8080/"
        },
        "id": "RpB3ZAYyY1qS",
        "outputId": "8120f88e-898a-43eb-b990-a83a7c36338d"
      },
      "execution_count": 15,
      "outputs": [
        {
          "output_type": "stream",
          "name": "stdout",
          "text": [
            "Predicted Delay for the flight: 43.35 minutes\n"
          ]
        }
      ]
    },
    {
      "cell_type": "code",
      "source": [
        "# Step 13: Download the Model\n",
        "from google.colab import files\n",
        "files.download('/content/best_flight_delay_model.pkl')\n"
      ],
      "metadata": {
        "colab": {
          "base_uri": "https://localhost:8080/",
          "height": 54
        },
        "id": "9Pw8ajUjZMsC",
        "outputId": "c311cbae-8787-49f3-c850-52b47fec2a77"
      },
      "execution_count": 16,
      "outputs": [
        {
          "output_type": "display_data",
          "data": {
            "text/plain": [
              "<IPython.core.display.Javascript object>"
            ],
            "application/javascript": [
              "\n",
              "    async function download(id, filename, size) {\n",
              "      if (!google.colab.kernel.accessAllowed) {\n",
              "        return;\n",
              "      }\n",
              "      const div = document.createElement('div');\n",
              "      const label = document.createElement('label');\n",
              "      label.textContent = `Downloading \"${filename}\": `;\n",
              "      div.appendChild(label);\n",
              "      const progress = document.createElement('progress');\n",
              "      progress.max = size;\n",
              "      div.appendChild(progress);\n",
              "      document.body.appendChild(div);\n",
              "\n",
              "      const buffers = [];\n",
              "      let downloaded = 0;\n",
              "\n",
              "      const channel = await google.colab.kernel.comms.open(id);\n",
              "      // Send a message to notify the kernel that we're ready.\n",
              "      channel.send({})\n",
              "\n",
              "      for await (const message of channel.messages) {\n",
              "        // Send a message to notify the kernel that we're ready.\n",
              "        channel.send({})\n",
              "        if (message.buffers) {\n",
              "          for (const buffer of message.buffers) {\n",
              "            buffers.push(buffer);\n",
              "            downloaded += buffer.byteLength;\n",
              "            progress.value = downloaded;\n",
              "          }\n",
              "        }\n",
              "      }\n",
              "      const blob = new Blob(buffers, {type: 'application/binary'});\n",
              "      const a = document.createElement('a');\n",
              "      a.href = window.URL.createObjectURL(blob);\n",
              "      a.download = filename;\n",
              "      div.appendChild(a);\n",
              "      a.click();\n",
              "      div.remove();\n",
              "    }\n",
              "  "
            ]
          },
          "metadata": {}
        },
        {
          "output_type": "display_data",
          "data": {
            "text/plain": [
              "<IPython.core.display.Javascript object>"
            ],
            "application/javascript": [
              "download(\"download_bfce9538-773e-4b69-91f8-370d85c31d1b\", \"best_flight_delay_model.pkl\", 71713879)"
            ]
          },
          "metadata": {}
        }
      ]
    }
  ]
}